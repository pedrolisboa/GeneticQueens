{
 "cells": [
  {
   "cell_type": "code",
   "execution_count": 53,
   "metadata": {},
   "outputs": [
    {
     "name": "stdout",
     "output_type": "stream",
     "text": [
      "Best Fitness: 0\n",
      "Rounds: 44, Rounds Without Improvement: 44\n"
     ]
    }
   ],
   "source": [
    "import numpy as np\n",
    "from typing import Tuple, Dict\n",
    "\n",
    "# class GeneticAlgorithm:\n",
    "#     def __init__(self, population_size: int, dimension: int, mating_pool_size: int, mutation_probability: float):\n",
    "#         self.population_size = population_size\n",
    "#         self.dimension = dimension\n",
    "#         self.mating_pool_size = mating_pool_size\n",
    "#         self.mutation_probability = mutation_probability\n",
    "\n",
    "def initialize_population(population_size, dimension) -> np.ndarray:\n",
    "    return np.array([np.random.permutation(np.arange(1, dimension + 1)) for _ in range(population_size)])\n",
    "\n",
    "def fitness(x):\n",
    "    # D = len(x)\n",
    "    checks = compute_checks_array(x)\n",
    "    # return ((D)*(D-1)/2) - checks\n",
    "    return -checks\n",
    "\n",
    "def mutate(individual: np.ndarray, dimension, mutation_probability) -> np.ndarray:\n",
    "    if np.random.rand() < mutation_probability:\n",
    "        swap_indices = np.random.choice(dimension, 2, replace=False)\n",
    "        individual[swap_indices[0]], individual[swap_indices[1]] = individual[swap_indices[1]], individual[swap_indices[0]]\n",
    "    return individual\n",
    "\n",
    "def crossover(parent1,parent2):\n",
    "    D = len(parent1)\n",
    "    assert (len(parent2) == D), \"Parents are not of the same size\"\n",
    "    crossover_point = np.random.choice(D)\n",
    "    if (crossover_point == 0):\n",
    "        crossover_point = crossover_point+1\n",
    "    \n",
    "    children_1 = np.zeros((D))\n",
    "    children_2 = np.zeros((D))\n",
    "    \n",
    "    children_1[0:crossover_point-1] = parent1[0:crossover_point-1]\n",
    "    children_2[0:crossover_point-1] = parent2[0:crossover_point-1] \n",
    "\n",
    "    complement_1 = parent2\n",
    "    complement_2 = parent1\n",
    "    for i in range(0,crossover_point):\n",
    "        complement_1 = complement_1[complement_1 != children_1[i]]\n",
    "        complement_2 = complement_2[complement_2 != children_2[i]]\n",
    "    \n",
    "    children_1[crossover_point-1:] = complement_1[:]\n",
    "    children_2[crossover_point-1:] = complement_2[:]\n",
    "    return children_1,children_2\n",
    "\n",
    "def compute_checks_array(p,DEBUG=False):\n",
    "    assert (len(p) == len(set(p))), \"Invalid Individual\"\n",
    "    checks = 0\n",
    "    for i in range(len(p)):\n",
    "        for j in range(i+1,len(p)):\n",
    "            if (p[i] + (j-i) == p[j]):\n",
    "                checks = checks + 1\n",
    "            elif (p[i] - (j-i) == p[j]):\n",
    "                checks = checks + 1\n",
    "                    \n",
    "    return checks\n",
    "\n",
    "def selection(fitnesses: np.ndarray) -> Tuple[int, int]:\n",
    "    probabilities = np.exp(fitnesses)\n",
    "    probabilities /= probabilities.sum()\n",
    "    return tuple(np.random.choice(population_size, 2, replace=False, p=probabilities))\n",
    "\n",
    "def genetic_algorithm(population_size: int, dimension: int, mating_pool_size: int, mutation_probability: float) -> Dict[str, any]:\n",
    "    population = initialize_population(population_size, dimension)\n",
    "    best_fitness = -np.inf\n",
    "    best_individual = None\n",
    "    best_possible_fitness = 0 #self.dimension * (self.dimension - 1) / 2\n",
    "    rounds_without_improvement = 0\n",
    "    rounds = 0\n",
    "\n",
    "    while best_fitness != best_possible_fitness and rounds_without_improvement < 500:\n",
    "        population_fitness = np.array([fitness(ind) for ind in population])\n",
    "        max_fitness_index = np.argmax(population_fitness)\n",
    "        if population_fitness[max_fitness_index] > best_fitness:\n",
    "            best_fitness = population_fitness[max_fitness_index]\n",
    "            best_individual = population[max_fitness_index]\n",
    "\n",
    "        children = []\n",
    "        for _ in range(mating_pool_size):\n",
    "            p1, p2 = selection(population_fitness)\n",
    "            c1, c2 = crossover(population[p1], population[p2])\n",
    "            c1, c2 = mutate(c1, dimension, mutation_probability), mutate(c2, dimension, mutation_probability)\n",
    "            children.extend([c1, c2])\n",
    "        \n",
    "        children = np.array(children)\n",
    "        children_fitness = np.array([fitness(child) for child in children])\n",
    "        sorted_indices = np.argsort(children_fitness)[::-1]\n",
    "        population = children[sorted_indices][:population_size]\n",
    "\n",
    "        rounds += 1\n",
    "        if best_fitness == population_fitness[max_fitness_index]:\n",
    "            rounds_without_improvement += 1\n",
    "        else:\n",
    "            rounds_without_improvement = 0\n",
    "\n",
    "    \n",
    "\n",
    "    return {\n",
    "        \"best_individual\": best_individual,\n",
    "        \"best_fitness\": best_fitness,\n",
    "        \"rounds_without_improvement\": rounds_without_improvement,\n",
    "        \"rounds\": rounds\n",
    "    }\n",
    "\n",
    "dimension=8\n",
    "population_size = 30\n",
    "mating_pool_size = 15\n",
    "mutation_probability = 0.1\n",
    "\n",
    "# Example usage\n",
    "results = genetic_algorithm(population_size=population_size, dimension=dimension, \n",
    "                      mating_pool_size=mating_pool_size, mutation_probability=mutation_probability)\n",
    "print(f\"Best Fitness: {results['best_fitness']}\")\n",
    "print(f\"Rounds: {results['rounds']}, Rounds Without Improvement: {results['rounds_without_improvement']}\")\n"
   ]
  },
  {
   "cell_type": "code",
   "execution_count": 54,
   "metadata": {},
   "outputs": [
    {
     "data": {
      "image/png": "[encoded data removed]",
      "text/plain": [
       "<Figure size 500x500 with 1 Axes>"
      ]
     },
     "metadata": {},
     "output_type": "display_data"
    }
   ],
   "source": [
    "from viz import draw_chessboard\n",
    "import matplotlib.pyplot as plt\n",
    "\n",
    "\n",
    "fig, ax = plt.subplots(figsize=(5,5))\n",
    "draw_chessboard(dimension, results[\"best_individual\"] - 1, ax)"
   ]
  },
  {
   "cell_type": "code",
   "execution_count": 21,
   "metadata": {},
   "outputs": [
    {
     "data": {
      "text/plain": [
       "array([5., 3., 1., 7., 2., 8., 6., 4.])"
      ]
     },
     "execution_count": 21,
     "metadata": {},
     "output_type": "execute_result"
    }
   ],
   "source": [
    "results[\"best_individual\"]"
   ]
  },
  {
   "cell_type": "code",
   "execution_count": null,
   "metadata": {},
   "outputs": [],
   "source": []
  }
 ],
 "metadata": {
  "kernelspec": {
   "display_name": "Python 3",
   "language": "python",
   "name": "python3"
  },
  "language_info": {
   "codemirror_mode": {
    "name": "ipython",
    "version": 3
   },
   "file_extension": ".py",
   "mimetype": "text/x-python",
   "name": "python",
   "nbconvert_exporter": "python",
   "pygments_lexer": "ipython3",
   "version": "3.8.10"
  }
 },
 "nbformat": 4,
 "nbformat_minor": 2
}
